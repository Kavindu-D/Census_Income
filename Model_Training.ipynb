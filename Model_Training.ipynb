{
  "nbformat": 4,
  "nbformat_minor": 0,
  "metadata": {
    "colab": {
      "provenance": [],
      "authorship_tag": "ABX9TyPU6IH7DX99Mg5CWtTFTa/N",
      "include_colab_link": true
    },
    "kernelspec": {
      "name": "python3",
      "display_name": "Python 3"
    },
    "language_info": {
      "name": "python"
    }
  },
  "cells": [
    {
      "cell_type": "markdown",
      "metadata": {
        "id": "view-in-github",
        "colab_type": "text"
      },
      "source": [
        "<a href=\"https://colab.research.google.com/github/Kavindu-D/Census_Income/blob/main/Model_Training.ipynb\" target=\"_parent\"><img src=\"https://colab.research.google.com/assets/colab-badge.svg\" alt=\"Open In Colab\"/></a>"
      ]
    },
    {
      "cell_type": "markdown",
      "source": [
        "# Importing necessary Libraries"
      ],
      "metadata": {
        "id": "y2xbDmTSs9tg"
      }
    },
    {
      "cell_type": "code",
      "execution_count": 1,
      "metadata": {
        "id": "tUW951bNs9HV"
      },
      "outputs": [],
      "source": [
        "from google.colab import drive\n",
        "import pandas as pd\n",
        "from sklearn.model_selection import train_test_split\n",
        "from sklearn.ensemble import RandomForestClassifier\n",
        "from sklearn.naive_bayes import GaussianNB\n",
        "from sklearn.metrics import accuracy_score"
      ]
    },
    {
      "cell_type": "markdown",
      "source": [
        "# Reading the dataset from the google drive"
      ],
      "metadata": {
        "id": "j94DyAfq0yB9"
      }
    },
    {
      "cell_type": "code",
      "source": [
        "drive.mount('/content/drive')\n",
        "data = pd.read_excel('/content/drive/MyDrive/ML_CW/preprocessed_dataset.xlsx')"
      ],
      "metadata": {
        "colab": {
          "base_uri": "https://localhost:8080/"
        },
        "id": "rPfJq_jO0xrR",
        "outputId": "cffa315f-0d07-43eb-ebef-1bb24dbdcba4"
      },
      "execution_count": 3,
      "outputs": [
        {
          "output_type": "stream",
          "name": "stdout",
          "text": [
            "Drive already mounted at /content/drive; to attempt to forcibly remount, call drive.mount(\"/content/drive\", force_remount=True).\n"
          ]
        }
      ]
    },
    {
      "cell_type": "markdown",
      "source": [
        "# Splitting training and test data"
      ],
      "metadata": {
        "id": "7ljC6sTi0sm4"
      }
    },
    {
      "cell_type": "code",
      "source": [
        "# Separating the target variable and features\n",
        "target = data['income']\n",
        "features = data.drop('income', axis=1)\n",
        "\n",
        "X_train, X_test, y_train, y_test = train_test_split(features, target, test_size=0.2, random_state=42)"
      ],
      "metadata": {
        "id": "EXBQmtnftxSq"
      },
      "execution_count": 6,
      "outputs": []
    },
    {
      "cell_type": "markdown",
      "source": [
        "# Training Random Forest Classifier model"
      ],
      "metadata": {
        "id": "G0UzLiwg3wG1"
      }
    },
    {
      "cell_type": "code",
      "source": [
        "# Training the model\n",
        "rf = RandomForestClassifier()\n",
        "rf.fit(X_train, y_train)\n",
        "\n",
        "# Testing the model\n",
        "rf_predicts = rf.predict(X_test)\n",
        "rf_accuracy = accuracy_score(y_test, rf_predicts)\n",
        "\n",
        "print(rf_accuracy)"
      ],
      "metadata": {
        "colab": {
          "base_uri": "https://localhost:8080/"
        },
        "id": "IN86aTNC3vnr",
        "outputId": "7101568b-4a8b-4871-a7cd-a625377f0725"
      },
      "execution_count": 8,
      "outputs": [
        {
          "output_type": "stream",
          "name": "stdout",
          "text": [
            "0.8710506731614911\n"
          ]
        }
      ]
    },
    {
      "cell_type": "markdown",
      "source": [
        "# Training Naive Bays model"
      ],
      "metadata": {
        "id": "cZyhXnC84YCb"
      }
    },
    {
      "cell_type": "code",
      "source": [
        "# Training the model\n",
        "nb = GaussianNB()\n",
        "nb.fit(X_train, y_train)\n",
        "\n",
        "# Testing the model\n",
        "nb_predicts = nb.predict(X_test)\n",
        "nb_accuracy = accuracy_score(y_test, nb_predicts)\n",
        "\n",
        "print(nb_accuracy)"
      ],
      "metadata": {
        "colab": {
          "base_uri": "https://localhost:8080/"
        },
        "id": "D5eNvaxO4WNr",
        "outputId": "b63646ac-400a-4197-c64f-00bba7ae292a"
      },
      "execution_count": 12,
      "outputs": [
        {
          "output_type": "stream",
          "name": "stdout",
          "text": [
            "0.7024558554901563\n"
          ]
        }
      ]
    }
  ]
}