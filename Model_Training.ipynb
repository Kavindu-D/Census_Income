{
  "nbformat": 4,
  "nbformat_minor": 0,
  "metadata": {
    "colab": {
      "provenance": [],
      "authorship_tag": "ABX9TyPTGuGMCEsMRsrPhHudtdgu",
      "include_colab_link": true
    },
    "kernelspec": {
      "name": "python3",
      "display_name": "Python 3"
    },
    "language_info": {
      "name": "python"
    }
  },
  "cells": [
    {
      "cell_type": "markdown",
      "metadata": {
        "id": "view-in-github",
        "colab_type": "text"
      },
      "source": [
        "<a href=\"https://colab.research.google.com/github/Kavindu-D/Census_Income/blob/main/Model_Training.ipynb\" target=\"_parent\"><img src=\"https://colab.research.google.com/assets/colab-badge.svg\" alt=\"Open In Colab\"/></a>"
      ]
    },
    {
      "cell_type": "markdown",
      "source": [
        "# Importing necessary Libraries"
      ],
      "metadata": {
        "id": "y2xbDmTSs9tg"
      }
    },
    {
      "cell_type": "code",
      "execution_count": 23,
      "metadata": {
        "id": "tUW951bNs9HV"
      },
      "outputs": [],
      "source": [
        "from google.colab import drive\n",
        "import pandas as pd\n",
        "from sklearn.model_selection import train_test_split\n",
        "from sklearn.ensemble import RandomForestClassifier\n",
        "from sklearn.naive_bayes import GaussianNB\n",
        "from sklearn.metrics import accuracy_score\n",
        "from sklearn.metrics import classification_report\n",
        "import matplotlib.pyplot as plt\n",
        "from sklearn.metrics import confusion_matrix\n",
        "import seaborn as sns"
      ]
    },
    {
      "cell_type": "markdown",
      "source": [
        "# Reading the dataset from the google drive"
      ],
      "metadata": {
        "id": "j94DyAfq0yB9"
      }
    },
    {
      "cell_type": "code",
      "source": [
        "drive.mount('/content/drive')\n",
        "data = pd.read_excel('/content/drive/MyDrive/ML_CW/preprocessed_dataset.xlsx')"
      ],
      "metadata": {
        "colab": {
          "base_uri": "https://localhost:8080/"
        },
        "id": "rPfJq_jO0xrR",
        "outputId": "2414ef85-6a15-428c-c715-6c2f66181818"
      },
      "execution_count": 24,
      "outputs": [
        {
          "output_type": "stream",
          "name": "stdout",
          "text": [
            "Drive already mounted at /content/drive; to attempt to forcibly remount, call drive.mount(\"/content/drive\", force_remount=True).\n"
          ]
        }
      ]
    },
    {
      "cell_type": "markdown",
      "source": [
        "# Splitting training and test data"
      ],
      "metadata": {
        "id": "7ljC6sTi0sm4"
      }
    },
    {
      "cell_type": "code",
      "source": [
        "# Separating the target variable and features\n",
        "target = data['income']\n",
        "features = data.drop('income', axis=1)\n",
        "\n",
        "X_train, X_test, y_train, y_test = train_test_split(features, target, test_size=0.2, random_state=42)"
      ],
      "metadata": {
        "id": "EXBQmtnftxSq"
      },
      "execution_count": 25,
      "outputs": []
    },
    {
      "cell_type": "markdown",
      "source": [
        "# Training Random Forest Classifier model"
      ],
      "metadata": {
        "id": "G0UzLiwg3wG1"
      }
    },
    {
      "cell_type": "code",
      "source": [
        "# Training the model\n",
        "rf = RandomForestClassifier()\n",
        "rf.fit(X_train, y_train)\n",
        "\n",
        "# Testing the model\n",
        "rf_predicts = rf.predict(X_test)\n",
        "rf_accuracy = accuracy_score(y_test, rf_predicts)\n",
        "\n",
        "print(rf_accuracy)"
      ],
      "metadata": {
        "colab": {
          "base_uri": "https://localhost:8080/"
        },
        "id": "IN86aTNC3vnr",
        "outputId": "90193e17-1a61-4cfd-dce6-fb0e096d9253"
      },
      "execution_count": 26,
      "outputs": [
        {
          "output_type": "stream",
          "name": "stdout",
          "text": [
            "0.8708477098978418\n"
          ]
        }
      ]
    },
    {
      "cell_type": "code",
      "source": [
        "# classification report for Random Forest\n",
        "print(classification_report(y_test, rf_predicts))"
      ],
      "metadata": {
        "id": "5_7-jueIN-QN",
        "outputId": "d728e160-6d73-41dd-da9a-83c2165ccfed",
        "colab": {
          "base_uri": "https://localhost:8080/"
        }
      },
      "execution_count": 27,
      "outputs": [
        {
          "output_type": "stream",
          "name": "stdout",
          "text": [
            "              precision    recall  f1-score   support\n",
            "\n",
            "           0       0.89      0.84      0.87      7393\n",
            "           1       0.85      0.90      0.87      7388\n",
            "\n",
            "    accuracy                           0.87     14781\n",
            "   macro avg       0.87      0.87      0.87     14781\n",
            "weighted avg       0.87      0.87      0.87     14781\n",
            "\n"
          ]
        }
      ]
    },
    {
      "cell_type": "code",
      "source": [
        "# Plotting the Confusion Matrix\n",
        "conf_mat = confusion_matrix(y_test, rf_predicts)\n",
        "\n",
        "sns.heatmap(conf_mat, annot=True, fmt=\"d\", cmap=\"Blues\", cbar=False)\n",
        "plt.xlabel(\"Predicted Labels\")\n",
        "plt.ylabel(\"True Labels\")\n",
        "plt.show()"
      ],
      "metadata": {
        "id": "bXjWce7bdey5",
        "outputId": "b2319833-77fe-48f7-d682-df3d67db9852",
        "colab": {
          "base_uri": "https://localhost:8080/",
          "height": 449
        }
      },
      "execution_count": 28,
      "outputs": [
        {
          "output_type": "display_data",
          "data": {
            "text/plain": [
              "<Figure size 640x480 with 1 Axes>"
            ],
            "image/png": "[encoded data removed]"
          },
          "metadata": {}
        }
      ]
    },
    {
      "cell_type": "markdown",
      "source": [
        "# Training Naive Bays model"
      ],
      "metadata": {
        "id": "cZyhXnC84YCb"
      }
    },
    {
      "cell_type": "code",
      "source": [
        "# Training the model\n",
        "nb = GaussianNB()\n",
        "nb.fit(X_train, y_train)\n",
        "\n",
        "# Testing the model\n",
        "nb_predicts = nb.predict(X_test)\n",
        "nb_accuracy = accuracy_score(y_test, nb_predicts)\n",
        "\n",
        "print(nb_accuracy)"
      ],
      "metadata": {
        "colab": {
          "base_uri": "https://localhost:8080/"
        },
        "id": "D5eNvaxO4WNr",
        "outputId": "a94061a6-66a8-473e-f7b9-9c579ae9f3ee"
      },
      "execution_count": 29,
      "outputs": [
        {
          "output_type": "stream",
          "name": "stdout",
          "text": [
            "0.7024558554901563\n"
          ]
        }
      ]
    },
    {
      "cell_type": "code",
      "source": [
        "# classification report for Naive Bayes\n",
        "print(classification_report(y_test, nb_predicts))"
      ],
      "metadata": {
        "id": "I8kT23jFRsU6",
        "outputId": "a4e611d6-c835-49e6-f0ba-c74263c22459",
        "colab": {
          "base_uri": "https://localhost:8080/"
        }
      },
      "execution_count": 30,
      "outputs": [
        {
          "output_type": "stream",
          "name": "stdout",
          "text": [
            "              precision    recall  f1-score   support\n",
            "\n",
            "           0       0.64      0.93      0.76      7393\n",
            "           1       0.87      0.48      0.62      7388\n",
            "\n",
            "    accuracy                           0.70     14781\n",
            "   macro avg       0.75      0.70      0.69     14781\n",
            "weighted avg       0.75      0.70      0.69     14781\n",
            "\n"
          ]
        }
      ]
    },
    {
      "cell_type": "code",
      "source": [
        "# Plotting the Confusion Matrix\n",
        "conf_mat = confusion_matrix(y_test, nb_predicts)\n",
        "\n",
        "sns.heatmap(conf_mat, annot=True, fmt=\"d\", cmap=\"Blues\", cbar=False)\n",
        "plt.xlabel(\"Predicted Labels\")\n",
        "plt.ylabel(\"True Labels\")\n",
        "plt.show()"
      ],
      "metadata": {
        "id": "sSFJogjkdpnX",
        "outputId": "fcb8c553-bc44-453f-8ded-d1ef3835c393",
        "colab": {
          "base_uri": "https://localhost:8080/",
          "height": 449
        }
      },
      "execution_count": 31,
      "outputs": [
        {
          "output_type": "display_data",
          "data": {
            "text/plain": [
              "<Figure size 640x480 with 1 Axes>"
            ],
            "image/png": "[encoded data removed]"
          },
          "metadata": {}
        }
      ]
    }
  ]
}